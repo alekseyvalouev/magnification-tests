{
 "cells": [
  {
   "cell_type": "code",
   "execution_count": 186,
   "id": "00777a49-8f52-4366-84eb-3a3bc10ea073",
   "metadata": {},
   "outputs": [],
   "source": [
    "%matplotlib inline\n",
    "import matplotlib.pyplot as plt\n",
    "import matplotlib.image as mpimg\n",
    "\n",
    "import cv2\n",
    "\n",
    "import math\n",
    "import numpy as np\n",
    "\n",
    "import os"
   ]
  },
  {
   "cell_type": "code",
   "execution_count": 150,
   "id": "7a818353-6c7d-446d-80ab-a08ce40b1b7a",
   "metadata": {},
   "outputs": [],
   "source": [
    "def upscale(img, scale):\n",
    "    height = img.shape[0]*scale\n",
    "    width = img.shape[1]*scale\n",
    "    out = [[0]*width for i in range(height)]\n",
    "    \n",
    "    for i in range(height):\n",
    "        for j in range(width):\n",
    "            out[i][j] = img[i//scale][j//scale]\n",
    "    return out"
   ]
  },
  {
   "cell_type": "code",
   "execution_count": 153,
   "id": "dc4c5307-9144-4c43-b1d0-7a6832a60343",
   "metadata": {
    "tags": []
   },
   "outputs": [],
   "source": [
    "def psnr(label, outputs, max_val=1.):\n",
    "    \"\"\"\n",
    "    Compute Peak Signal to Noise Ratio (the higher the better).\n",
    "    PSNR = 20 * log10(MAXp) - 10 * log10(MSE).\n",
    "    https://en.wikipedia.org/wiki/Peak_signal-to-noise_ratio#Definition\n",
    "    First we need to convert torch tensors to NumPy operable.\n",
    "    \"\"\"\n",
    "    label = label\n",
    "    outputs = outputs\n",
    "    img_diff = outputs - label\n",
    "    rmse = math.sqrt(np.mean((img_diff) ** 2))\n",
    "    if rmse == 0:\n",
    "        return 100\n",
    "    else:\n",
    "        PSNR = 20 * math.log10(max_val / rmse)\n",
    "        return PSNR"
   ]
  },
  {
   "cell_type": "code",
   "execution_count": 199,
   "id": "d7dc7d6b-16b9-4cce-95eb-634cceca014b",
   "metadata": {},
   "outputs": [],
   "source": [
    "def generate_patches(im_high, im_low, size, ct):\n",
    "    xcount = im_high.shape[0]//size\n",
    "    ycount = im_high.shape[1]//size\n",
    "    \n",
    "    for i in range(xcount):\n",
    "        for j in range(ycount):\n",
    "            ct = ct + 1\n",
    "            patch_high = np.array(im_high)[i*size:(i+1)*size, j*size:(j+1)*size]\n",
    "            cv2.imwrite(\"data/Set14/patches_high_res/%s.png\" % str(ct), cv2.cvtColor(patch_high*255, cv2.COLOR_GRAY2BGR))\n",
    "            patch_low = np.array(im_low)[i*size:(i+1)*size, j*size:(j+1)*size]\n",
    "            cv2.imwrite(\"data/Set14/patches_low_res/%s.png\" % str(ct), cv2.cvtColor(patch_low*255, cv2.COLOR_GRAY2BGR))\n",
    "    \n",
    "    return ct\n",
    "    "
   ]
  },
  {
   "cell_type": "code",
   "execution_count": 204,
   "id": "4936b18d-9d16-40ec-b0fb-a9e97c6b4877",
   "metadata": {},
   "outputs": [],
   "source": [
    "def make_pair(filename, ct):\n",
    "    img = mpimg.imread(filename)\n",
    "    gray = cv2.cvtColor(img, cv2.COLOR_BGR2GRAY)\n",
    "    gray_down = cv2.resize(gray, (int(gray.shape[1]/2), int(gray.shape[0]/2)), interpolation=cv2.INTER_CUBIC)\n",
    "    gray_down = upscale(gray_down, 2)\n",
    "    \n",
    "    ct = generate_patches(gray, gray_down, 40, ct)\n",
    "    return ct"
   ]
  },
  {
   "cell_type": "code",
   "execution_count": 205,
   "id": "53d7daf4-ba2a-4cb0-b307-d88a0db53fac",
   "metadata": {},
   "outputs": [],
   "source": [
    "directory = \"data/Set14\""
   ]
  },
  {
   "cell_type": "code",
   "execution_count": 206,
   "id": "b2ab2927-8fc2-4719-868a-24471378348d",
   "metadata": {},
   "outputs": [
    {
     "name": "stdout",
     "output_type": "stream",
     "text": [
      "data/Set14/monarch.png 228\n",
      "data/Set14/flowers.png 336\n",
      "data/Set14/bridge.png 480\n",
      "data/Set14/ppt3.png 688\n",
      "data/Set14/zebra.png 814\n",
      "data/Set14/lenna.png 958\n",
      "data/Set14/barbara.png 1210\n",
      "data/Set14/face.png 1246\n",
      "data/Set14/comic.png 1300\n",
      "data/Set14/pepper.png 1444\n",
      "data/Set14/man.png 1588\n",
      "data/Set14/coastguard.png 1644\n",
      "data/Set14/foreman.png 1700\n",
      "data/Set14/baboon.png 1844\n"
     ]
    }
   ],
   "source": [
    "ct = 0\n",
    "for filename in os.listdir(directory):\n",
    "    f = os.path.join(directory, filename)\n",
    "    # checking if it is a file\n",
    "    if os.path.isfile(f) and \"DS_Store\" not in f:\n",
    "        ct = make_pair(str(f), ct)\n",
    "        print(f + \" %i\" % ct)"
   ]
  }
 ],
 "metadata": {
  "kernelspec": {
   "display_name": "Python 3 (ipykernel)",
   "language": "python",
   "name": "python3"
  },
  "language_info": {
   "codemirror_mode": {
    "name": "ipython",
    "version": 3
   },
   "file_extension": ".py",
   "mimetype": "text/x-python",
   "name": "python",
   "nbconvert_exporter": "python",
   "pygments_lexer": "ipython3",
   "version": "3.9.7"
  }
 },
 "nbformat": 4,
 "nbformat_minor": 5
}
