{
 "cells": [
  {
   "cell_type": "code",
   "execution_count": 32,
   "id": "27d29986-2600-40e7-9d3c-f4693315afa5",
   "metadata": {},
   "outputs": [],
   "source": [
    "import torch\n",
    "from torch import nn\n",
    "from torch import optim\n",
    "import torchvision\n",
    "\n",
    "from matplotlib import pyplot as plt"
   ]
  },
  {
   "cell_type": "code",
   "execution_count": 6,
   "id": "02e6cefb-ea44-450b-9a30-2064099ef2aa",
   "metadata": {},
   "outputs": [],
   "source": [
    "class AE(nn.Module):\n",
    "    def __init__(self, **kwargs):\n",
    "        super().__init__()\n",
    "        self.encoder_hidden_layer = nn.Linear(\n",
    "            in_features=kwargs[\"input_shape\"], out_features=128\n",
    "        )\n",
    "        self.encoder_output_layer = nn.Linear(\n",
    "            in_features=128, out_features=128\n",
    "        )\n",
    "        self.decoder_hidden_layer = nn.Linear(\n",
    "            in_features=128, out_features=128\n",
    "        )\n",
    "        self.decoder_output_layer = nn.Linear(\n",
    "            in_features=128, out_features=kwargs[\"input_shape\"]\n",
    "        )\n",
    "\n",
    "    def forward(self, features):\n",
    "        activation = self.encoder_hidden_layer(features)\n",
    "        activation = torch.relu(activation)\n",
    "        code = self.encoder_output_layer(activation)\n",
    "        code = torch.relu(code)\n",
    "        activation = self.decoder_hidden_layer(code)\n",
    "        activation = torch.relu(activation)\n",
    "        activation = self.decoder_output_layer(activation)\n",
    "        reconstructed = torch.relu(activation)\n",
    "        return reconstructed"
   ]
  },
  {
   "cell_type": "code",
   "execution_count": 7,
   "id": "eca19a69-6fa8-4c27-8403-6eeaa8db75b2",
   "metadata": {},
   "outputs": [],
   "source": [
    "#  use gpu if available\n",
    "device = torch.device(\"cuda\" if torch.cuda.is_available() else \"cpu\")\n",
    "\n",
    "# create a model from `AE` autoencoder class\n",
    "# load it to the specified device, either gpu or cpu\n",
    "model = AE(input_shape=784).to(device)\n",
    "\n",
    "# create an optimizer object\n",
    "# Adam optimizer with learning rate 1e-3\n",
    "optimizer = optim.Adam(model.parameters(), lr=1e-3)\n",
    "\n",
    "# mean-squared error loss\n",
    "criterion = nn.MSELoss()"
   ]
  },
  {
   "cell_type": "code",
   "execution_count": 8,
   "id": "ddd585a6-4348-4682-b747-a4ee2faa0a43",
   "metadata": {},
   "outputs": [
    {
     "name": "stdout",
     "output_type": "stream",
     "text": [
      "Downloading http://yann.lecun.com/exdb/mnist/train-images-idx3-ubyte.gz\n",
      "Downloading http://yann.lecun.com/exdb/mnist/train-images-idx3-ubyte.gz to data/MNIST/raw/train-images-idx3-ubyte.gz\n"
     ]
    },
    {
     "data": {
      "application/vnd.jupyter.widget-view+json": {
       "model_id": "e9f9fce716fb4d41812205df2d6bde62",
       "version_major": 2,
       "version_minor": 0
      },
      "text/plain": [
       "  0%|          | 0/9912422 [00:00<?, ?it/s]"
      ]
     },
     "metadata": {},
     "output_type": "display_data"
    },
    {
     "name": "stdout",
     "output_type": "stream",
     "text": [
      "Extracting data/MNIST/raw/train-images-idx3-ubyte.gz to data/MNIST/raw\n",
      "\n",
      "Downloading http://yann.lecun.com/exdb/mnist/train-labels-idx1-ubyte.gz\n",
      "Downloading http://yann.lecun.com/exdb/mnist/train-labels-idx1-ubyte.gz to data/MNIST/raw/train-labels-idx1-ubyte.gz\n"
     ]
    },
    {
     "data": {
      "application/vnd.jupyter.widget-view+json": {
       "model_id": "ec7ebc5d305845eeb0740ac2e032949d",
       "version_major": 2,
       "version_minor": 0
      },
      "text/plain": [
       "  0%|          | 0/28881 [00:00<?, ?it/s]"
      ]
     },
     "metadata": {},
     "output_type": "display_data"
    },
    {
     "name": "stdout",
     "output_type": "stream",
     "text": [
      "Extracting data/MNIST/raw/train-labels-idx1-ubyte.gz to data/MNIST/raw\n",
      "\n",
      "Downloading http://yann.lecun.com/exdb/mnist/t10k-images-idx3-ubyte.gz\n",
      "Downloading http://yann.lecun.com/exdb/mnist/t10k-images-idx3-ubyte.gz to data/MNIST/raw/t10k-images-idx3-ubyte.gz\n"
     ]
    },
    {
     "data": {
      "application/vnd.jupyter.widget-view+json": {
       "model_id": "0f7e89c71b0d41559e2adff482759a52",
       "version_major": 2,
       "version_minor": 0
      },
      "text/plain": [
       "  0%|          | 0/1648877 [00:00<?, ?it/s]"
      ]
     },
     "metadata": {},
     "output_type": "display_data"
    },
    {
     "name": "stdout",
     "output_type": "stream",
     "text": [
      "Extracting data/MNIST/raw/t10k-images-idx3-ubyte.gz to data/MNIST/raw\n",
      "\n",
      "Downloading http://yann.lecun.com/exdb/mnist/t10k-labels-idx1-ubyte.gz\n",
      "Downloading http://yann.lecun.com/exdb/mnist/t10k-labels-idx1-ubyte.gz to data/MNIST/raw/t10k-labels-idx1-ubyte.gz\n"
     ]
    },
    {
     "data": {
      "application/vnd.jupyter.widget-view+json": {
       "model_id": "7458ac6baaa541d68a5586d4673e8499",
       "version_major": 2,
       "version_minor": 0
      },
      "text/plain": [
       "  0%|          | 0/4542 [00:00<?, ?it/s]"
      ]
     },
     "metadata": {},
     "output_type": "display_data"
    },
    {
     "name": "stdout",
     "output_type": "stream",
     "text": [
      "Extracting data/MNIST/raw/t10k-labels-idx1-ubyte.gz to data/MNIST/raw\n",
      "\n"
     ]
    }
   ],
   "source": [
    "transform = torchvision.transforms.Compose([torchvision.transforms.ToTensor()])\n",
    "\n",
    "train_dataset = torchvision.datasets.MNIST(\n",
    "    root=\"data\", train=True, transform=transform, download=True\n",
    ")\n",
    "\n",
    "test_dataset = torchvision.datasets.MNIST(\n",
    "    root=\"data\", train=False, transform=transform, download=True\n",
    ")\n",
    "\n",
    "train_loader = torch.utils.data.DataLoader(\n",
    "    train_dataset, batch_size=128, shuffle=True, num_workers=4, pin_memory=True\n",
    ")\n",
    "\n",
    "test_loader = torch.utils.data.DataLoader(\n",
    "    test_dataset, batch_size=32, shuffle=False, num_workers=4\n",
    ")"
   ]
  },
  {
   "cell_type": "code",
   "execution_count": 64,
   "id": "fa7decf6-87fe-489f-8a55-d159a5320134",
   "metadata": {
    "tags": []
   },
   "outputs": [
    {
     "name": "stdout",
     "output_type": "stream",
     "text": [
      "epoch : 1/50, loss = 0.013854\n",
      "epoch : 2/50, loss = 0.013812\n",
      "epoch : 3/50, loss = 0.013765\n",
      "epoch : 4/50, loss = 0.013722\n",
      "epoch : 5/50, loss = 0.013683\n",
      "epoch : 6/50, loss = 0.013645\n",
      "epoch : 7/50, loss = 0.013614\n",
      "epoch : 8/50, loss = 0.013573\n",
      "epoch : 9/50, loss = 0.013549\n",
      "epoch : 10/50, loss = 0.013524\n",
      "epoch : 11/50, loss = 0.013510\n",
      "epoch : 12/50, loss = 0.013481\n",
      "epoch : 13/50, loss = 0.013460\n",
      "epoch : 14/50, loss = 0.013440\n",
      "epoch : 15/50, loss = 0.013416\n",
      "epoch : 16/50, loss = 0.013389\n",
      "epoch : 17/50, loss = 0.013379\n",
      "epoch : 18/50, loss = 0.013368\n",
      "epoch : 19/50, loss = 0.013352\n",
      "epoch : 20/50, loss = 0.013332\n",
      "epoch : 21/50, loss = 0.013321\n",
      "epoch : 22/50, loss = 0.013314\n",
      "epoch : 23/50, loss = 0.013296\n",
      "epoch : 24/50, loss = 0.013278\n",
      "epoch : 25/50, loss = 0.013272\n",
      "epoch : 26/50, loss = 0.013253\n",
      "epoch : 27/50, loss = 0.013249\n",
      "epoch : 28/50, loss = 0.013240\n",
      "epoch : 29/50, loss = 0.013229\n",
      "epoch : 30/50, loss = 0.013222\n",
      "epoch : 31/50, loss = 0.013216\n",
      "epoch : 32/50, loss = 0.013199\n",
      "epoch : 33/50, loss = 0.013197\n",
      "epoch : 34/50, loss = 0.013189\n",
      "epoch : 35/50, loss = 0.013177\n",
      "epoch : 36/50, loss = 0.013165\n",
      "epoch : 37/50, loss = 0.013152\n",
      "epoch : 38/50, loss = 0.013146\n",
      "epoch : 39/50, loss = 0.013135\n",
      "epoch : 40/50, loss = 0.013127\n",
      "epoch : 41/50, loss = 0.013114\n",
      "epoch : 42/50, loss = 0.013110\n",
      "epoch : 43/50, loss = 0.013097\n",
      "epoch : 44/50, loss = 0.013099\n",
      "epoch : 45/50, loss = 0.013090\n",
      "epoch : 46/50, loss = 0.013080\n",
      "epoch : 47/50, loss = 0.013072\n",
      "epoch : 48/50, loss = 0.013074\n",
      "epoch : 49/50, loss = 0.013065\n",
      "epoch : 50/50, loss = 0.013063\n"
     ]
    }
   ],
   "source": [
    "epochs = 50\n",
    "for epoch in range(epochs):\n",
    "    loss = 0\n",
    "    for batch_features, _ in train_loader:\n",
    "        # reshape mini-batch data to [N, 784] matrix\n",
    "        # load it to the active device\n",
    "        batch_features = batch_features.view(-1, 784).to(device)\n",
    "        \n",
    "        # reset the gradients back to zero\n",
    "        # PyTorch accumulates gradients on subsequent backward passes\n",
    "        optimizer.zero_grad()\n",
    "        \n",
    "        # compute reconstructions\n",
    "        outputs = model(batch_features)\n",
    "        \n",
    "        # compute training reconstruction loss\n",
    "        train_loss = criterion(outputs, batch_features)\n",
    "        \n",
    "        # compute accumulated gradients\n",
    "        train_loss.backward()\n",
    "        \n",
    "        # perform parameter update based on current gradients\n",
    "        optimizer.step()\n",
    "        \n",
    "        # add the mini-batch training loss to epoch loss\n",
    "        loss += train_loss.item()\n",
    "    \n",
    "    # compute the epoch training loss\n",
    "    loss = loss / len(train_loader)\n",
    "    \n",
    "    # display the epoch training loss\n",
    "    print(\"epoch : {}/{}, loss = {:.6f}\".format(epoch + 1, epochs, loss))"
   ]
  },
  {
   "cell_type": "code",
   "execution_count": 68,
   "id": "3f1254e0-d08f-4d19-9750-564dfcb0451c",
   "metadata": {},
   "outputs": [],
   "source": [
    "test_idx = 3"
   ]
  },
  {
   "cell_type": "code",
   "execution_count": 69,
   "id": "9d62f487-04f1-4a54-b662-ba246e2aee15",
   "metadata": {},
   "outputs": [],
   "source": [
    "model.eval()\n",
    "\n",
    "test_img = test_dataset[test_idx][0].view(-1, 784).to(device)\n",
    "test_img = model(test_img).view(28, 28)"
   ]
  },
  {
   "cell_type": "code",
   "execution_count": 70,
   "id": "c7be13d6-5ba6-4201-9f35-fcc30804336e",
   "metadata": {},
   "outputs": [],
   "source": [
    "img = test_dataset[test_idx][0].to(device).float().squeeze()"
   ]
  },
  {
   "cell_type": "code",
   "execution_count": 71,
   "id": "6cbfc413-bffe-4a98-81ba-c3dc96153194",
   "metadata": {},
   "outputs": [
    {
     "data": {
      "text/plain": [
       "Text(0.5, 1.0, 'Reconstructed')"
      ]
     },
     "execution_count": 71,
     "metadata": {},
     "output_type": "execute_result"
    },
    {
     "data": {
      "text/plain": [
       "<Figure size 432x288 with 0 Axes>"
      ]
     },
     "metadata": {},
     "output_type": "display_data"
    },
    {
     "data": {
      "image/png": "[encoded data removed]",
      "text/plain": [
       "<Figure size 432x288 with 2 Axes>"
      ]
     },
     "metadata": {
      "needs_background": "light"
     },
     "output_type": "display_data"
    }
   ],
   "source": [
    "plt.figure()\n",
    "\n",
    "f, ax = plt.subplots(1,2) \n",
    "\n",
    "ax[0].imshow(img.cpu().numpy())\n",
    "ax[0].set_title(\"GT: \" + str(test_dataset[test_idx][1]))\n",
    "ax[1].imshow(test_img.detach().cpu().numpy())\n",
    "ax[1].set_title(\"Reconstructed\")"
   ]
  },
  {
   "cell_type": "code",
   "execution_count": null,
   "id": "371d074f-4660-439a-9109-b586c7cb3772",
   "metadata": {},
   "outputs": [],
   "source": []
  }
 ],
 "metadata": {
  "kernelspec": {
   "display_name": "Python 3 (ipykernel)",
   "language": "python",
   "name": "python3"
  },
  "language_info": {
   "codemirror_mode": {
    "name": "ipython",
    "version": 3
   },
   "file_extension": ".py",
   "mimetype": "text/x-python",
   "name": "python",
   "nbconvert_exporter": "python",
   "pygments_lexer": "ipython3",
   "version": "3.9.7"
  }
 },
 "nbformat": 4,
 "nbformat_minor": 5
}
